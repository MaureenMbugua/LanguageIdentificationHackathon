{
 "cells": [
  {
   "cell_type": "markdown",
   "id": "6c7e849a",
   "metadata": {
    "ExecuteTime": {
     "end_time": "2021-06-11T09:24:53.643384Z",
     "start_time": "2021-06-11T09:24:53.622385Z"
    }
   },
   "source": [
    "# Language Identification Hackathon\n",
    "\n",
    "\n"
   ]
  },
  {
   "cell_type": "markdown",
   "id": "9c52d9ad",
   "metadata": {},
   "source": [
    "South Africa is a multilingual country with 11 official languages, each of which is guaranteed equal status. Most South Africans are multilingual and able to speak at least two or more of the official languages.\n",
    "\n",
    "With such a multilingual population, it is only obvious that systems and devices also communicate in multi-languages.\n",
    "\n",
    "In this challenge, I will be creating a model that will take text which is in any of South Africa's 11 Official languages and identify which language the text is in."
   ]
  },
  {
   "cell_type": "markdown",
   "id": "05600c92",
   "metadata": {},
   "source": [
    "<a id=\"cont\"></a>\n",
    "\n",
    "## Table of Contents\n",
    "\n",
    "<a href=#one>1. Importing Packages</a>\n",
    "\n",
    "<a href=#two>2. Loading Data</a>\n",
    "\n",
    "<a href=#three>3. Exploratory Data Analysis (EDA)</a>\n",
    "\n",
    "<a href=#four>4. Data Engineering</a>\n",
    "\n",
    "<a href=#five>5. Modeling</a>\n",
    "\n",
    "<a href=#six>6. Model Performance</a>\n",
    "\n",
    "<a href=#seven>7. Model Explanations</a>"
   ]
  },
  {
   "cell_type": "markdown",
   "id": "997462e2",
   "metadata": {},
   "source": [
    " <a id=\"one\"></a>\n",
    "## 1. Importing Packages\n",
    "<a href=#cont>Back to Table of Contents</a>\n",
    "\n",
    "---\n",
    "    "
   ]
  },
  {
   "cell_type": "code",
   "execution_count": 104,
   "id": "9ff08502",
   "metadata": {},
   "outputs": [
    {
     "name": "stdout",
     "output_type": "stream",
     "text": [
      "^C\n"
     ]
    }
   ],
   "source": [
    "!pip install --upgrade tensorflow"
   ]
  },
  {
   "cell_type": "code",
   "execution_count": 169,
   "id": "475dbe93",
   "metadata": {
    "ExecuteTime": {
     "end_time": "2021-06-23T10:30:53.800892Z",
     "start_time": "2021-06-23T10:30:50.215449Z"
    }
   },
   "outputs": [],
   "source": [
    "#libraries for...\n",
    "import pandas as pd\n",
    "import numpy as np\n",
    "import matplotlib.pyplot as plt\n",
    "from pylab import rcParams\n",
    "rcParams['figure.figsize'] = 10, 5\n",
    "\n",
    "import re\n",
    "import string\n",
    "from ast import literal_eval\n",
    "\n",
    "from nltk.tokenize import TreebankWordTokenizer\n",
    "from nltk import SnowballStemmer, PorterStemmer, LancasterStemmer\n",
    "from nltk.stem import WordNetLemmatizer\n",
    "from nltk.corpus import stopwords\n",
    "\n",
    "from sklearn.preprocessing import LabelEncoder\n",
    "from sklearn.feature_extraction.text import CountVectorizer\n",
    "from sklearn.model_selection import train_test_split\n",
    "from sklearn.linear_model import LogisticRegression\n",
    "from sklearn.ensemble import RandomForestClassifier, AdaBoostClassifier\n",
    "from sklearn.svm import SVC\n",
    "from sklearn.naive_bayes import GaussianNB, CategoricalNB, MultinomialNB\n",
    "from sklearn.neighbors import KNeighborsClassifier\n",
    "from sklearn.metrics import classification_report\n",
    "\n",
    "\n",
    "\n"
   ]
  },
  {
   "cell_type": "markdown",
   "id": "f22a6718",
   "metadata": {},
   "source": [
    "<a id=\"two\"></a>\n",
    "## 2. Loading the Data\n",
    "<a class=\"anchor\" id=\"1.1\"></a>\n",
    "<a href=#cont>Back to Table of Contents</a>\n"
   ]
  },
  {
   "cell_type": "code",
   "execution_count": 17,
   "id": "fbbb6c18",
   "metadata": {
    "ExecuteTime": {
     "end_time": "2021-06-28T08:49:35.311495Z",
     "start_time": "2021-06-28T08:49:35.295494Z"
    }
   },
   "outputs": [
    {
     "data": {
      "text/html": [
       "<div>\n",
       "<style scoped>\n",
       "    .dataframe tbody tr th:only-of-type {\n",
       "        vertical-align: middle;\n",
       "    }\n",
       "\n",
       "    .dataframe tbody tr th {\n",
       "        vertical-align: top;\n",
       "    }\n",
       "\n",
       "    .dataframe thead th {\n",
       "        text-align: right;\n",
       "    }\n",
       "</style>\n",
       "<table border=\"1\" class=\"dataframe\">\n",
       "  <thead>\n",
       "    <tr style=\"text-align: right;\">\n",
       "      <th></th>\n",
       "      <th>lang_id</th>\n",
       "      <th>text</th>\n",
       "    </tr>\n",
       "  </thead>\n",
       "  <tbody>\n",
       "    <tr>\n",
       "      <th>0</th>\n",
       "      <td>xho</td>\n",
       "      <td>umgaqo-siseko wenza amalungiselelo kumaziko ax...</td>\n",
       "    </tr>\n",
       "    <tr>\n",
       "      <th>1</th>\n",
       "      <td>xho</td>\n",
       "      <td>i-dha iya kuba nobulumko bokubeka umsebenzi na...</td>\n",
       "    </tr>\n",
       "    <tr>\n",
       "      <th>2</th>\n",
       "      <td>eng</td>\n",
       "      <td>the province of kwazulu-natal department of tr...</td>\n",
       "    </tr>\n",
       "    <tr>\n",
       "      <th>3</th>\n",
       "      <td>nso</td>\n",
       "      <td>o netefatša gore o ba file dilo ka moka tše le...</td>\n",
       "    </tr>\n",
       "    <tr>\n",
       "      <th>4</th>\n",
       "      <td>ven</td>\n",
       "      <td>khomishini ya ndinganyiso ya mbeu yo ewa maana...</td>\n",
       "    </tr>\n",
       "    <tr>\n",
       "      <th>...</th>\n",
       "      <td>...</td>\n",
       "      <td>...</td>\n",
       "    </tr>\n",
       "    <tr>\n",
       "      <th>195</th>\n",
       "      <td>sot</td>\n",
       "      <td>makgapetlala a mobu a sitisang ho kenella ha m...</td>\n",
       "    </tr>\n",
       "    <tr>\n",
       "      <th>196</th>\n",
       "      <td>ssw</td>\n",
       "      <td>ufanele kutsi uhlale njalo uphatsa wonkhe umun...</td>\n",
       "    </tr>\n",
       "    <tr>\n",
       "      <th>197</th>\n",
       "      <td>ssw</td>\n",
       "      <td>kubaluleka kwesibongo nekutsi siyini umlandvo ...</td>\n",
       "    </tr>\n",
       "    <tr>\n",
       "      <th>198</th>\n",
       "      <td>ven</td>\n",
       "      <td>muthu muṅwe na muṅwe ane a shumela muvhuso kan...</td>\n",
       "    </tr>\n",
       "    <tr>\n",
       "      <th>199</th>\n",
       "      <td>xho</td>\n",
       "      <td>umlawuli kamasipala njengegosa elongamele ulaw...</td>\n",
       "    </tr>\n",
       "  </tbody>\n",
       "</table>\n",
       "<p>200 rows × 2 columns</p>\n",
       "</div>"
      ],
      "text/plain": [
       "    lang_id                                               text\n",
       "0       xho  umgaqo-siseko wenza amalungiselelo kumaziko ax...\n",
       "1       xho  i-dha iya kuba nobulumko bokubeka umsebenzi na...\n",
       "2       eng  the province of kwazulu-natal department of tr...\n",
       "3       nso  o netefatša gore o ba file dilo ka moka tše le...\n",
       "4       ven  khomishini ya ndinganyiso ya mbeu yo ewa maana...\n",
       "..      ...                                                ...\n",
       "195     sot  makgapetlala a mobu a sitisang ho kenella ha m...\n",
       "196     ssw  ufanele kutsi uhlale njalo uphatsa wonkhe umun...\n",
       "197     ssw  kubaluleka kwesibongo nekutsi siyini umlandvo ...\n",
       "198     ven  muthu muṅwe na muṅwe ane a shumela muvhuso kan...\n",
       "199     xho  umlawuli kamasipala njengegosa elongamele ulaw...\n",
       "\n",
       "[200 rows x 2 columns]"
      ]
     },
     "execution_count": 17,
     "metadata": {},
     "output_type": "execute_result"
    }
   ],
   "source": [
    "train_df = pd.read_csv(\"train_set.csv\")\n",
    "train_df.head(200)"
   ]
  },
  {
   "cell_type": "code",
   "execution_count": 5,
   "id": "8a887acb",
   "metadata": {},
   "outputs": [
    {
     "data": {
      "text/html": [
       "<div>\n",
       "<style scoped>\n",
       "    .dataframe tbody tr th:only-of-type {\n",
       "        vertical-align: middle;\n",
       "    }\n",
       "\n",
       "    .dataframe tbody tr th {\n",
       "        vertical-align: top;\n",
       "    }\n",
       "\n",
       "    .dataframe thead th {\n",
       "        text-align: right;\n",
       "    }\n",
       "</style>\n",
       "<table border=\"1\" class=\"dataframe\">\n",
       "  <thead>\n",
       "    <tr style=\"text-align: right;\">\n",
       "      <th></th>\n",
       "      <th>index</th>\n",
       "      <th>text</th>\n",
       "    </tr>\n",
       "  </thead>\n",
       "  <tbody>\n",
       "    <tr>\n",
       "      <th>0</th>\n",
       "      <td>1</td>\n",
       "      <td>Mmasepala, fa maemo a a kgethegileng a letlele...</td>\n",
       "    </tr>\n",
       "    <tr>\n",
       "      <th>1</th>\n",
       "      <td>2</td>\n",
       "      <td>Uzakwaziswa ngokufaneleko nakungafuneka eminye...</td>\n",
       "    </tr>\n",
       "    <tr>\n",
       "      <th>2</th>\n",
       "      <td>3</td>\n",
       "      <td>Tshivhumbeo tshi fana na ngano dza vhathu.</td>\n",
       "    </tr>\n",
       "    <tr>\n",
       "      <th>3</th>\n",
       "      <td>4</td>\n",
       "      <td>Kube inja nelikati betingevakala kutsi titsini...</td>\n",
       "    </tr>\n",
       "    <tr>\n",
       "      <th>4</th>\n",
       "      <td>5</td>\n",
       "      <td>Winste op buitelandse valuta.</td>\n",
       "    </tr>\n",
       "  </tbody>\n",
       "</table>\n",
       "</div>"
      ],
      "text/plain": [
       "   index                                               text\n",
       "0      1  Mmasepala, fa maemo a a kgethegileng a letlele...\n",
       "1      2  Uzakwaziswa ngokufaneleko nakungafuneka eminye...\n",
       "2      3         Tshivhumbeo tshi fana na ngano dza vhathu.\n",
       "3      4  Kube inja nelikati betingevakala kutsi titsini...\n",
       "4      5                      Winste op buitelandse valuta."
      ]
     },
     "execution_count": 5,
     "metadata": {},
     "output_type": "execute_result"
    }
   ],
   "source": [
    "test_df=pd.read_csv(\"test_set.csv\")\n",
    "test_df.head()"
   ]
  },
  {
   "cell_type": "markdown",
   "id": "81132ab3",
   "metadata": {},
   "source": [
    "<a id=\"three\"></a>\n",
    "## 3. Exploratory Data Analysis (EDA)\n",
    "<a class=\"anchor\" id=\"1.1\"></a>\n",
    "<a href=#cont>Back to Table of Contents</a>\n",
    "\n"
   ]
  },
  {
   "cell_type": "markdown",
   "id": "a2d3c970",
   "metadata": {},
   "source": [
    "### Non-Graphical EDA"
   ]
  },
  {
   "cell_type": "code",
   "execution_count": 6,
   "id": "e805134e",
   "metadata": {
    "ExecuteTime": {
     "end_time": "2021-06-28T08:52:37.824204Z",
     "start_time": "2021-06-28T08:52:37.811206Z"
    }
   },
   "outputs": [
    {
     "data": {
      "text/plain": [
       "(33000, 2)"
      ]
     },
     "execution_count": 6,
     "metadata": {},
     "output_type": "execute_result"
    }
   ],
   "source": [
    "train_df.shape"
   ]
  },
  {
   "cell_type": "markdown",
   "id": "9576a836",
   "metadata": {},
   "source": [
    "Our training dataset contains only **2 columns** which are the **lang_id** and **text** as seen above.The dataset is also comprised of **33000 observations.**"
   ]
  },
  {
   "cell_type": "code",
   "execution_count": 7,
   "id": "b30378a1",
   "metadata": {},
   "outputs": [
    {
     "data": {
      "text/plain": [
       "(5682, 2)"
      ]
     },
     "execution_count": 7,
     "metadata": {},
     "output_type": "execute_result"
    }
   ],
   "source": [
    "test_df.shape"
   ]
  },
  {
   "cell_type": "markdown",
   "id": "bd9ede96",
   "metadata": {},
   "source": [
    "For our test data, we also have **2 columns**. However, here we have only **index** and **text** and no lang_id which is expected as it is our unseen data for testing the model. The set also has a total of **5682 observations.**"
   ]
  },
  {
   "cell_type": "code",
   "execution_count": 8,
   "id": "a108659b",
   "metadata": {},
   "outputs": [
    {
     "name": "stdout",
     "output_type": "stream",
     "text": [
      "<class 'pandas.core.frame.DataFrame'>\n",
      "RangeIndex: 33000 entries, 0 to 32999\n",
      "Data columns (total 2 columns):\n",
      " #   Column   Non-Null Count  Dtype \n",
      "---  ------   --------------  ----- \n",
      " 0   lang_id  33000 non-null  object\n",
      " 1   text     33000 non-null  object\n",
      "dtypes: object(2)\n",
      "memory usage: 515.8+ KB\n"
     ]
    }
   ],
   "source": [
    "train_df.info()"
   ]
  },
  {
   "cell_type": "markdown",
   "id": "28f13866",
   "metadata": {},
   "source": [
    "From the above, we can see that both columns in our training set have 33000 entries as expected, which means that we do not have any missing values."
   ]
  },
  {
   "cell_type": "code",
   "execution_count": 9,
   "id": "25c743f4",
   "metadata": {},
   "outputs": [
    {
     "data": {
      "text/plain": [
       "lang_id       11\n",
       "text       29948\n",
       "dtype: int64"
      ]
     },
     "execution_count": 9,
     "metadata": {},
     "output_type": "execute_result"
    }
   ],
   "source": [
    "train_df.nunique()"
   ]
  },
  {
   "cell_type": "markdown",
   "id": "8223d6ff",
   "metadata": {},
   "source": [
    "The text column has 29948 unique entries, which means that there are some duplicate text entries in our data. We can also see that the lang_id column has 11 unique values. Ideally, this should represent the number of classes. Below, we will use the **unique()** method to see what they are and if it is what we expect."
   ]
  },
  {
   "cell_type": "code",
   "execution_count": 10,
   "id": "79bdfb8c",
   "metadata": {},
   "outputs": [
    {
     "data": {
      "text/plain": [
       "array(['xho', 'eng', 'nso', 'ven', 'tsn', 'nbl', 'zul', 'ssw', 'tso',\n",
       "       'sot', 'afr'], dtype=object)"
      ]
     },
     "execution_count": 10,
     "metadata": {},
     "output_type": "execute_result"
    }
   ],
   "source": [
    "train_df.lang_id.unique()"
   ]
  },
  {
   "cell_type": "markdown",
   "id": "f7b8bb43",
   "metadata": {},
   "source": [
    "Our languuage IDs translate to the following:\n",
    "\n",
    "* afr - Afrikaans\n",
    "* eng - English\n",
    "* nbl - isiNdebele\n",
    "* nso - Sepedi\n",
    "* sot - Sesotho\n",
    "* ssw - siSwati\n",
    "* tsn - Setswana\n",
    "* tso - Xitsonga\n",
    "* ven - Tshivenda\n",
    "* xho - isiXhosa\n",
    "* zul - isiZulu"
   ]
  },
  {
   "cell_type": "markdown",
   "id": "446f02b0",
   "metadata": {},
   "source": [
    "Next, let us get an idea of how our observations are distributed among the 11 language classes."
   ]
  },
  {
   "cell_type": "code",
   "execution_count": 11,
   "id": "65e8c2ca",
   "metadata": {},
   "outputs": [
    {
     "data": {
      "text/html": [
       "<div>\n",
       "<style scoped>\n",
       "    .dataframe tbody tr th:only-of-type {\n",
       "        vertical-align: middle;\n",
       "    }\n",
       "\n",
       "    .dataframe tbody tr th {\n",
       "        vertical-align: top;\n",
       "    }\n",
       "\n",
       "    .dataframe thead th {\n",
       "        text-align: right;\n",
       "    }\n",
       "</style>\n",
       "<table border=\"1\" class=\"dataframe\">\n",
       "  <thead>\n",
       "    <tr style=\"text-align: right;\">\n",
       "      <th></th>\n",
       "      <th>text</th>\n",
       "    </tr>\n",
       "    <tr>\n",
       "      <th>lang_id</th>\n",
       "      <th></th>\n",
       "    </tr>\n",
       "  </thead>\n",
       "  <tbody>\n",
       "    <tr>\n",
       "      <th>afr</th>\n",
       "      <td>3000</td>\n",
       "    </tr>\n",
       "    <tr>\n",
       "      <th>eng</th>\n",
       "      <td>3000</td>\n",
       "    </tr>\n",
       "    <tr>\n",
       "      <th>nbl</th>\n",
       "      <td>3000</td>\n",
       "    </tr>\n",
       "    <tr>\n",
       "      <th>nso</th>\n",
       "      <td>3000</td>\n",
       "    </tr>\n",
       "    <tr>\n",
       "      <th>sot</th>\n",
       "      <td>3000</td>\n",
       "    </tr>\n",
       "    <tr>\n",
       "      <th>ssw</th>\n",
       "      <td>3000</td>\n",
       "    </tr>\n",
       "    <tr>\n",
       "      <th>tsn</th>\n",
       "      <td>3000</td>\n",
       "    </tr>\n",
       "    <tr>\n",
       "      <th>tso</th>\n",
       "      <td>3000</td>\n",
       "    </tr>\n",
       "    <tr>\n",
       "      <th>ven</th>\n",
       "      <td>3000</td>\n",
       "    </tr>\n",
       "    <tr>\n",
       "      <th>xho</th>\n",
       "      <td>3000</td>\n",
       "    </tr>\n",
       "    <tr>\n",
       "      <th>zul</th>\n",
       "      <td>3000</td>\n",
       "    </tr>\n",
       "  </tbody>\n",
       "</table>\n",
       "</div>"
      ],
      "text/plain": [
       "         text\n",
       "lang_id      \n",
       "afr      3000\n",
       "eng      3000\n",
       "nbl      3000\n",
       "nso      3000\n",
       "sot      3000\n",
       "ssw      3000\n",
       "tsn      3000\n",
       "tso      3000\n",
       "ven      3000\n",
       "xho      3000\n",
       "zul      3000"
      ]
     },
     "execution_count": 11,
     "metadata": {},
     "output_type": "execute_result"
    }
   ],
   "source": [
    "train_df_class=train_df[['lang_id', 'text']].groupby('lang_id').count()\n",
    "train_df_class"
   ]
  },
  {
   "cell_type": "markdown",
   "id": "540943b9",
   "metadata": {},
   "source": [
    "To our surprise, our dataset is perfectly balanced, with each of the classes having 3000 observations each. It seems re-sampling may have been done on the data before, which could explain the existance of duplicate values as seen before."
   ]
  },
  {
   "cell_type": "markdown",
   "id": "6dbf18a6",
   "metadata": {},
   "source": [
    "### Graphical EDA"
   ]
  },
  {
   "cell_type": "markdown",
   "id": "d4034fe8",
   "metadata": {},
   "source": [
    "Let us have a visual representation of how our data has been distributed among the 11 classes. We will use a bar chart, and we expect all the bars to be of equal length."
   ]
  },
  {
   "cell_type": "code",
   "execution_count": 16,
   "id": "39c7c004",
   "metadata": {},
   "outputs": [
    {
     "data": {
      "image/png": "[encoded data removed]",
      "text/plain": [
       "<Figure size 720x360 with 1 Axes>"
      ]
     },
     "metadata": {
      "needs_background": "light"
     },
     "output_type": "display_data"
    }
   ],
   "source": [
    "train_df['lang_id'].value_counts().plot(kind='bar', color=['mediumspringgreen', 'mediumaquamarine', 'lightseagreen', 'mediumturquoise'])\n",
    "plt.title('Observation Distribution Among the Classes')\n",
    "plt.xlabel('Classes')\n",
    "plt.ylabel('No. of Observations')\n",
    "plt.xticks(rotation=60, fontsize=15)\n",
    "plt.show()"
   ]
  },
  {
   "cell_type": "markdown",
   "id": "3fa93ec6",
   "metadata": {},
   "source": [
    "<a id=\"four\"></a>\n",
    "## 4. Data Engineering\n",
    "<a class=\"anchor\" id=\"1.1\"></a>\n",
    "<a href=#cont>Back to Table of Contents</a>\n",
    "\n"
   ]
  },
  {
   "cell_type": "markdown",
   "id": "d46e0f0e",
   "metadata": {},
   "source": [
    "#### Text Cleaning"
   ]
  },
  {
   "cell_type": "markdown",
   "id": "85ce1eb8",
   "metadata": {},
   "source": [
    "Let us take a snippet of our data to get a better idea of how clean it is:"
   ]
  },
  {
   "cell_type": "code",
   "execution_count": 22,
   "id": "059c2f3e",
   "metadata": {},
   "outputs": [
    {
     "name": "stdout",
     "output_type": "stream",
     "text": [
      "15    c a fa tumelelo ya go hloma go aga goba go bea...\n",
      "16    migingiriko ya cbnrm hinkwayo yi katsa ku tumb...\n",
      "17    amalungu nabangabasebenzi banelungelo lokwenza...\n",
      "18    ka ho mengwa lefapheng la lona diprofeshenale ...\n",
      "19    isitifikhethi somtjhado esingakarhunyezwa namk...\n",
      "20    maikemisetso a magolo a lenaneo ke go phasalat...\n",
      "21    ngaka van der nest tlametse kopano ka molebo-k...\n",
      "22    u lava yini laha he mufana va xi vutisa hi afr...\n",
      "23    if the post of accounting officer is vacant or...\n",
      "24    uma ngabe make ufaka sicelo sekuba namatisi be...\n",
      "25    kanti-ke abantu namhlanje bangabhekana nengozi...\n",
      "26    ukuhlelwa kwezehlakalo ezihlukeneko ukusuka ek...\n",
      "27    ingabe sewutfolile futsi wabambisa indzawo lek...\n",
      "28    langa eli xesha nesizathu salo zingasinika ama...\n",
      "29    batho ba bangata ba hlwaya diphoso ho boradita...\n",
      "Name: text, dtype: object\n",
      "115    muthu muwe na muwe a nga ita khumbelo kha mini...\n",
      "116    lo gade angusinethi ongakakhethwa ukuba ilunga...\n",
      "117    palamente mosebetsing wa yona wa phethahatso h...\n",
      "118    nayikuthi ilwazi liyafuneka ngeemfuno zamambal...\n",
      "119    monongwaga palamente ya rephaboliki ya aforika...\n",
      "120    vraag kan mens met miv besmet word deur n pers...\n",
      "121    uxhaso lwezimali okuhloswe ngalo ukulungisa ok...\n",
      "122    kha vha ḓivhe hezwi a vha nga ḓo ita ndingo ya...\n",
      "123    thendelo ya dzilafho i ṋewa muthu ane a si vhe...\n",
      "124    molefi o ka be o sa ka wa itshwenya le ho itsh...\n",
      "125    in the elaboration of government policy since ...\n",
      "126    nakong ya mosebetsi o mongata wa lehlabula han...\n",
      "127    umphakathi wase-africa kanye nabatshali mali a...\n",
      "128    dit is n baie breë plan wat aandui wat beplan ...\n",
      "129    njengelunga elivunyelweko lelabhorathri lehlan...\n",
      "Name: text, dtype: object\n",
      "35    o rekile polase ya gagwe ya lemoenkloof mo sed...\n",
      "36    amagama aphakanyisiwe abantu abangaqokwa ngokw...\n",
      "37    the department plays a prominent and active ro...\n",
      "38    a ku tsundzuxa huvo eka nhlayo leyi pimiweke y...\n",
      "39    tshedimosetso e e neetsweng ke motho mongwe le...\n",
      "Name: text, dtype: object\n"
     ]
    }
   ],
   "source": [
    "print(train_df['text'][15:30])\n",
    "print(train_df['text'][115:130])\n",
    "print(train_df['text'][35:40])"
   ]
  },
  {
   "cell_type": "markdown",
   "id": "4a74e886",
   "metadata": {},
   "source": [
    "Our text data seems to all be in lowercase. There also does not seem to be any punctuations or digits. We can therefore skip that part of the text cleaning process. However, we can still do a test to see whether we have any punctuations within our text data."
   ]
  },
  {
   "cell_type": "code",
   "execution_count": 24,
   "id": "5fb602c7",
   "metadata": {},
   "outputs": [
    {
     "name": "stdout",
     "output_type": "stream",
     "text": [
      "['-']\n"
     ]
    }
   ],
   "source": [
    "import string\n",
    "\n",
    "for words in train_df.text:\n",
    "    punct=[l for l in words if l in string.punctuation]\n",
    "    \n",
    "print(punct)\n"
   ]
  },
  {
   "cell_type": "code",
   "execution_count": 28,
   "id": "5cd32ef4",
   "metadata": {},
   "outputs": [],
   "source": [
    "def cleaning(words):\n",
    "    words=words.lower()\n",
    "    words = re.sub(r'\\w*-\\w*', \"\", words)\n",
    "    return words\n",
    "train_df['text']=train_df['text'].apply(cleaning)"
   ]
  },
  {
   "cell_type": "markdown",
   "id": "41858a96",
   "metadata": {},
   "source": [
    "#### Tokenization"
   ]
  },
  {
   "cell_type": "code",
   "execution_count": 30,
   "id": "25c8276a",
   "metadata": {},
   "outputs": [
    {
     "data": {
      "text/html": [
       "<div>\n",
       "<style scoped>\n",
       "    .dataframe tbody tr th:only-of-type {\n",
       "        vertical-align: middle;\n",
       "    }\n",
       "\n",
       "    .dataframe tbody tr th {\n",
       "        vertical-align: top;\n",
       "    }\n",
       "\n",
       "    .dataframe thead th {\n",
       "        text-align: right;\n",
       "    }\n",
       "</style>\n",
       "<table border=\"1\" class=\"dataframe\">\n",
       "  <thead>\n",
       "    <tr style=\"text-align: right;\">\n",
       "      <th></th>\n",
       "      <th>lang_id</th>\n",
       "      <th>text</th>\n",
       "      <th>text_tokens</th>\n",
       "    </tr>\n",
       "  </thead>\n",
       "  <tbody>\n",
       "    <tr>\n",
       "      <th>0</th>\n",
       "      <td>xho</td>\n",
       "      <td>wenza amalungiselelo kumaziko axhasa ulawulo ...</td>\n",
       "      <td>[wenza, amalungiselelo, kumaziko, axhasa, ulaw...</td>\n",
       "    </tr>\n",
       "    <tr>\n",
       "      <th>1</th>\n",
       "      <td>xho</td>\n",
       "      <td>iya kuba nobulumko bokubeka umsebenzi naphi n...</td>\n",
       "      <td>[iya, kuba, nobulumko, bokubeka, umsebenzi, na...</td>\n",
       "    </tr>\n",
       "    <tr>\n",
       "      <th>2</th>\n",
       "      <td>eng</td>\n",
       "      <td>the province of  department of transport invit...</td>\n",
       "      <td>[the, province, of, department, of, transport,...</td>\n",
       "    </tr>\n",
       "    <tr>\n",
       "      <th>3</th>\n",
       "      <td>nso</td>\n",
       "      <td>o netefatša gore o ba file dilo ka moka tše le...</td>\n",
       "      <td>[o, netefatša, gore, o, ba, file, dilo, ka, mo...</td>\n",
       "    </tr>\n",
       "    <tr>\n",
       "      <th>4</th>\n",
       "      <td>ven</td>\n",
       "      <td>khomishini ya ndinganyiso ya mbeu yo ewa maana...</td>\n",
       "      <td>[khomishini, ya, ndinganyiso, ya, mbeu, yo, ew...</td>\n",
       "    </tr>\n",
       "  </tbody>\n",
       "</table>\n",
       "</div>"
      ],
      "text/plain": [
       "  lang_id                                               text  \\\n",
       "0     xho   wenza amalungiselelo kumaziko axhasa ulawulo ...   \n",
       "1     xho   iya kuba nobulumko bokubeka umsebenzi naphi n...   \n",
       "2     eng  the province of  department of transport invit...   \n",
       "3     nso  o netefatša gore o ba file dilo ka moka tše le...   \n",
       "4     ven  khomishini ya ndinganyiso ya mbeu yo ewa maana...   \n",
       "\n",
       "                                         text_tokens  \n",
       "0  [wenza, amalungiselelo, kumaziko, axhasa, ulaw...  \n",
       "1  [iya, kuba, nobulumko, bokubeka, umsebenzi, na...  \n",
       "2  [the, province, of, department, of, transport,...  \n",
       "3  [o, netefatša, gore, o, ba, file, dilo, ka, mo...  \n",
       "4  [khomishini, ya, ndinganyiso, ya, mbeu, yo, ew...  "
      ]
     },
     "execution_count": 30,
     "metadata": {},
     "output_type": "execute_result"
    }
   ],
   "source": [
    "tokeniser = TreebankWordTokenizer()\n",
    "#tknzr = TweetTokenizer(strip_handles=True, reduce_len=True)\n",
    "train_df['text_tokens']=train_df['text'].apply(tokeniser.tokenize)\n",
    "train_df.head()"
   ]
  },
  {
   "cell_type": "markdown",
   "id": "dd9e4f8e",
   "metadata": {},
   "source": [
    "#### Remove Stop Words"
   ]
  },
  {
   "cell_type": "code",
   "execution_count": 33,
   "id": "207e3baa",
   "metadata": {},
   "outputs": [
    {
     "data": {
      "text/html": [
       "<div>\n",
       "<style scoped>\n",
       "    .dataframe tbody tr th:only-of-type {\n",
       "        vertical-align: middle;\n",
       "    }\n",
       "\n",
       "    .dataframe tbody tr th {\n",
       "        vertical-align: top;\n",
       "    }\n",
       "\n",
       "    .dataframe thead th {\n",
       "        text-align: right;\n",
       "    }\n",
       "</style>\n",
       "<table border=\"1\" class=\"dataframe\">\n",
       "  <thead>\n",
       "    <tr style=\"text-align: right;\">\n",
       "      <th></th>\n",
       "      <th>lang_id</th>\n",
       "      <th>text</th>\n",
       "      <th>text_tokens</th>\n",
       "      <th>text_nonstop</th>\n",
       "    </tr>\n",
       "  </thead>\n",
       "  <tbody>\n",
       "    <tr>\n",
       "      <th>0</th>\n",
       "      <td>xho</td>\n",
       "      <td>wenza amalungiselelo kumaziko axhasa ulawulo ...</td>\n",
       "      <td>[wenza, amalungiselelo, kumaziko, axhasa, ulaw...</td>\n",
       "      <td>[wenza, amalungiselelo, kumaziko, axhasa, ulaw...</td>\n",
       "    </tr>\n",
       "    <tr>\n",
       "      <th>1</th>\n",
       "      <td>xho</td>\n",
       "      <td>iya kuba nobulumko bokubeka umsebenzi naphi n...</td>\n",
       "      <td>[iya, kuba, nobulumko, bokubeka, umsebenzi, na...</td>\n",
       "      <td>[iya, kuba, nobulumko, bokubeka, umsebenzi, na...</td>\n",
       "    </tr>\n",
       "    <tr>\n",
       "      <th>2</th>\n",
       "      <td>eng</td>\n",
       "      <td>the province of  department of transport invit...</td>\n",
       "      <td>[the, province, of, department, of, transport,...</td>\n",
       "      <td>[province, department, transport, invites, ten...</td>\n",
       "    </tr>\n",
       "    <tr>\n",
       "      <th>3</th>\n",
       "      <td>nso</td>\n",
       "      <td>o netefatša gore o ba file dilo ka moka tše le...</td>\n",
       "      <td>[o, netefatša, gore, o, ba, file, dilo, ka, mo...</td>\n",
       "      <td>[netefatša, gore, ba, file, dilo, ka, moka, tš...</td>\n",
       "    </tr>\n",
       "    <tr>\n",
       "      <th>4</th>\n",
       "      <td>ven</td>\n",
       "      <td>khomishini ya ndinganyiso ya mbeu yo ewa maana...</td>\n",
       "      <td>[khomishini, ya, ndinganyiso, ya, mbeu, yo, ew...</td>\n",
       "      <td>[khomishini, ya, ndinganyiso, ya, mbeu, yo, ew...</td>\n",
       "    </tr>\n",
       "  </tbody>\n",
       "</table>\n",
       "</div>"
      ],
      "text/plain": [
       "  lang_id                                               text  \\\n",
       "0     xho   wenza amalungiselelo kumaziko axhasa ulawulo ...   \n",
       "1     xho   iya kuba nobulumko bokubeka umsebenzi naphi n...   \n",
       "2     eng  the province of  department of transport invit...   \n",
       "3     nso  o netefatša gore o ba file dilo ka moka tše le...   \n",
       "4     ven  khomishini ya ndinganyiso ya mbeu yo ewa maana...   \n",
       "\n",
       "                                         text_tokens  \\\n",
       "0  [wenza, amalungiselelo, kumaziko, axhasa, ulaw...   \n",
       "1  [iya, kuba, nobulumko, bokubeka, umsebenzi, na...   \n",
       "2  [the, province, of, department, of, transport,...   \n",
       "3  [o, netefatša, gore, o, ba, file, dilo, ka, mo...   \n",
       "4  [khomishini, ya, ndinganyiso, ya, mbeu, yo, ew...   \n",
       "\n",
       "                                        text_nonstop  \n",
       "0  [wenza, amalungiselelo, kumaziko, axhasa, ulaw...  \n",
       "1  [iya, kuba, nobulumko, bokubeka, umsebenzi, na...  \n",
       "2  [province, department, transport, invites, ten...  \n",
       "3  [netefatša, gore, ba, file, dilo, ka, moka, tš...  \n",
       "4  [khomishini, ya, ndinganyiso, ya, mbeu, yo, ew...  "
      ]
     },
     "execution_count": 33,
     "metadata": {},
     "output_type": "execute_result"
    }
   ],
   "source": [
    "def remove_stop_words(tokens):    \n",
    "    return [t for t in tokens if t not in stopwords.words('english')]\n",
    "train_df['text_nonstop']=train_df['text_tokens'].apply(remove_stop_words)\n",
    "train_df.head()"
   ]
  },
  {
   "cell_type": "markdown",
   "id": "16bbc1c6",
   "metadata": {},
   "source": [
    "#### Lemmatization"
   ]
  },
  {
   "cell_type": "code",
   "execution_count": 34,
   "id": "3b6dc1dd",
   "metadata": {},
   "outputs": [
    {
     "data": {
      "text/html": [
       "<div>\n",
       "<style scoped>\n",
       "    .dataframe tbody tr th:only-of-type {\n",
       "        vertical-align: middle;\n",
       "    }\n",
       "\n",
       "    .dataframe tbody tr th {\n",
       "        vertical-align: top;\n",
       "    }\n",
       "\n",
       "    .dataframe thead th {\n",
       "        text-align: right;\n",
       "    }\n",
       "</style>\n",
       "<table border=\"1\" class=\"dataframe\">\n",
       "  <thead>\n",
       "    <tr style=\"text-align: right;\">\n",
       "      <th></th>\n",
       "      <th>lang_id</th>\n",
       "      <th>text</th>\n",
       "      <th>text_tokens</th>\n",
       "      <th>text_nonstop</th>\n",
       "      <th>text_lemmatized</th>\n",
       "    </tr>\n",
       "  </thead>\n",
       "  <tbody>\n",
       "    <tr>\n",
       "      <th>0</th>\n",
       "      <td>xho</td>\n",
       "      <td>wenza amalungiselelo kumaziko axhasa ulawulo ...</td>\n",
       "      <td>[wenza, amalungiselelo, kumaziko, axhasa, ulaw...</td>\n",
       "      <td>[wenza, amalungiselelo, kumaziko, axhasa, ulaw...</td>\n",
       "      <td>[wenza, amalungiselelo, kumaziko, axhasa, ulaw...</td>\n",
       "    </tr>\n",
       "    <tr>\n",
       "      <th>1</th>\n",
       "      <td>xho</td>\n",
       "      <td>iya kuba nobulumko bokubeka umsebenzi naphi n...</td>\n",
       "      <td>[iya, kuba, nobulumko, bokubeka, umsebenzi, na...</td>\n",
       "      <td>[iya, kuba, nobulumko, bokubeka, umsebenzi, na...</td>\n",
       "      <td>[iya, kuba, nobulumko, bokubeka, umsebenzi, na...</td>\n",
       "    </tr>\n",
       "    <tr>\n",
       "      <th>2</th>\n",
       "      <td>eng</td>\n",
       "      <td>the province of  department of transport invit...</td>\n",
       "      <td>[the, province, of, department, of, transport,...</td>\n",
       "      <td>[province, department, transport, invites, ten...</td>\n",
       "      <td>[province, department, transport, invite, tend...</td>\n",
       "    </tr>\n",
       "    <tr>\n",
       "      <th>3</th>\n",
       "      <td>nso</td>\n",
       "      <td>o netefatša gore o ba file dilo ka moka tše le...</td>\n",
       "      <td>[o, netefatša, gore, o, ba, file, dilo, ka, mo...</td>\n",
       "      <td>[netefatša, gore, ba, file, dilo, ka, moka, tš...</td>\n",
       "      <td>[netefatša, gore, ba, file, dilo, ka, moka, tš...</td>\n",
       "    </tr>\n",
       "    <tr>\n",
       "      <th>4</th>\n",
       "      <td>ven</td>\n",
       "      <td>khomishini ya ndinganyiso ya mbeu yo ewa maana...</td>\n",
       "      <td>[khomishini, ya, ndinganyiso, ya, mbeu, yo, ew...</td>\n",
       "      <td>[khomishini, ya, ndinganyiso, ya, mbeu, yo, ew...</td>\n",
       "      <td>[khomishini, ya, ndinganyiso, ya, mbeu, yo, ew...</td>\n",
       "    </tr>\n",
       "  </tbody>\n",
       "</table>\n",
       "</div>"
      ],
      "text/plain": [
       "  lang_id                                               text  \\\n",
       "0     xho   wenza amalungiselelo kumaziko axhasa ulawulo ...   \n",
       "1     xho   iya kuba nobulumko bokubeka umsebenzi naphi n...   \n",
       "2     eng  the province of  department of transport invit...   \n",
       "3     nso  o netefatša gore o ba file dilo ka moka tše le...   \n",
       "4     ven  khomishini ya ndinganyiso ya mbeu yo ewa maana...   \n",
       "\n",
       "                                         text_tokens  \\\n",
       "0  [wenza, amalungiselelo, kumaziko, axhasa, ulaw...   \n",
       "1  [iya, kuba, nobulumko, bokubeka, umsebenzi, na...   \n",
       "2  [the, province, of, department, of, transport,...   \n",
       "3  [o, netefatša, gore, o, ba, file, dilo, ka, mo...   \n",
       "4  [khomishini, ya, ndinganyiso, ya, mbeu, yo, ew...   \n",
       "\n",
       "                                        text_nonstop  \\\n",
       "0  [wenza, amalungiselelo, kumaziko, axhasa, ulaw...   \n",
       "1  [iya, kuba, nobulumko, bokubeka, umsebenzi, na...   \n",
       "2  [province, department, transport, invites, ten...   \n",
       "3  [netefatša, gore, ba, file, dilo, ka, moka, tš...   \n",
       "4  [khomishini, ya, ndinganyiso, ya, mbeu, yo, ew...   \n",
       "\n",
       "                                     text_lemmatized  \n",
       "0  [wenza, amalungiselelo, kumaziko, axhasa, ulaw...  \n",
       "1  [iya, kuba, nobulumko, bokubeka, umsebenzi, na...  \n",
       "2  [province, department, transport, invite, tend...  \n",
       "3  [netefatša, gore, ba, file, dilo, ka, moka, tš...  \n",
       "4  [khomishini, ya, ndinganyiso, ya, mbeu, yo, ew...  "
      ]
     },
     "execution_count": 34,
     "metadata": {},
     "output_type": "execute_result"
    }
   ],
   "source": [
    "def return_lemmer(words):\n",
    "    lemmatizer = WordNetLemmatizer()\n",
    "    return [lemmatizer.lemmatize(word) for word in words]\n",
    "train_df['text_lemmatized'] = train_df['text_nonstop'].apply(return_lemmer)\n",
    "train_df.head()"
   ]
  },
  {
   "cell_type": "code",
   "execution_count": 37,
   "id": "b2dc0c79",
   "metadata": {},
   "outputs": [],
   "source": [
    "#train_df.to_csv('clean_train.csv', index=None)\n",
    "clean_train_df=pd.read_csv('clean_train.csv', converters={'text_lemmatized': literal_eval})\n"
   ]
  },
  {
   "cell_type": "markdown",
   "id": "6a6b92fa",
   "metadata": {},
   "source": [
    "#### Feature Extraction"
   ]
  },
  {
   "cell_type": "markdown",
   "id": "664f2f15",
   "metadata": {},
   "source": [
    "#### 1.Transform text features into numbers"
   ]
  },
  {
   "cell_type": "markdown",
   "id": "85b0bafd",
   "metadata": {},
   "source": [
    "We transform the text into numbers so as to be able to feed it into our models. For this, we will use the Tfid Vectorizer"
   ]
  },
  {
   "cell_type": "code",
   "execution_count": 199,
   "id": "020bdd12",
   "metadata": {},
   "outputs": [],
   "source": [
    "#function to join our list of words into a string so as to feed it into the vectorizer.\n",
    "def join_w(words):\n",
    "    words=' '.join(words)\n",
    "    return words\n",
    "    "
   ]
  },
  {
   "cell_type": "code",
   "execution_count": null,
   "id": "50f0c038",
   "metadata": {},
   "outputs": [],
   "source": [
    "#vect = CountVectorizer(lowercase=False, stop_words='english', ngram_range=(1, 4), min_df=2, max_df=0.5)\n",
    "#vect_dict= vect.fit_transform(clean_train_df['text_lemmatized'].apply(join_w))"
   ]
  },
  {
   "cell_type": "code",
   "execution_count": 188,
   "id": "e5204353",
   "metadata": {},
   "outputs": [],
   "source": [
    "from sklearn.feature_extraction.text import TfidfVectorizer\n",
    "vect1 = TfidfVectorizer(stop_words='english', \n",
    "                        max_df=0.9, max_features=50000,\n",
    "                        ngram_range=(1, 2))\n",
    "vect_dict1= vect1.fit_transform(clean_train_df['text_lemmatized'].apply(join_w))\n",
    "\n"
   ]
  },
  {
   "cell_type": "code",
   "execution_count": 189,
   "id": "507c98af",
   "metadata": {},
   "outputs": [
    {
     "data": {
      "text/plain": [
       "(33000, 50000)"
      ]
     },
     "execution_count": 189,
     "metadata": {},
     "output_type": "execute_result"
    }
   ],
   "source": [
    "vect_dict1.shape"
   ]
  },
  {
   "cell_type": "markdown",
   "id": "5dce7dd4",
   "metadata": {},
   "source": [
    "Our data has been transformed to 50000 thousand features."
   ]
  },
  {
   "cell_type": "markdown",
   "id": "0e8b3782",
   "metadata": {},
   "source": [
    "#### 2.Transform the Response Variables"
   ]
  },
  {
   "cell_type": "markdown",
   "id": "6e96d2fb",
   "metadata": {},
   "source": [
    "Since our response consists of text categories, we need to  also convert them to numerical values. We will use the Label Encoder which will replace each of our category with a number."
   ]
  },
  {
   "cell_type": "code",
   "execution_count": 44,
   "id": "4c8ab586",
   "metadata": {},
   "outputs": [],
   "source": [
    "le = LabelEncoder()\n",
    "# Fit label encoder and return encoded labels\n",
    "y = le.fit_transform(clean_train_df['lang_id'])"
   ]
  },
  {
   "cell_type": "code",
   "execution_count": 54,
   "id": "ad718e15",
   "metadata": {},
   "outputs": [
    {
     "name": "stdout",
     "output_type": "stream",
     "text": [
      "['afr' 'eng' 'nbl' 'nso' 'sot' 'ssw' 'tsn' 'tso' 'ven' 'xho' 'zul']\n"
     ]
    }
   ],
   "source": [
    "class_labels = le.classes_\n",
    "print(class_labels)"
   ]
  },
  {
   "cell_type": "markdown",
   "id": "43b2d523",
   "metadata": {},
   "source": [
    "<a id=\"five\"></a>\n",
    "## 5. Modelling\n",
    "<a class=\"anchor\" id=\"1.1\"></a>\n",
    "<a href=#cont>Back to Table of Contents</a>\n"
   ]
  },
  {
   "cell_type": "code",
   "execution_count": 190,
   "id": "9c58df02",
   "metadata": {},
   "outputs": [],
   "source": [
    "# create targets and features dataset\n",
    "X=vect_dict1\n",
    "y=y"
   ]
  },
  {
   "cell_type": "code",
   "execution_count": 191,
   "id": "63e75081",
   "metadata": {},
   "outputs": [],
   "source": [
    "#split into train and test set\n",
    "X_train, X_test, y_train, y_test = train_test_split(X, y, test_size=0.2, random_state=27)"
   ]
  },
  {
   "cell_type": "markdown",
   "id": "dfeabbce",
   "metadata": {},
   "source": [
    "#### Logistic Regression"
   ]
  },
  {
   "cell_type": "code",
   "execution_count": 131,
   "id": "20d073e0",
   "metadata": {},
   "outputs": [],
   "source": [
    "# create one or more ML models\n",
    "lr = LogisticRegression(multi_class='ovr')\n",
    "lr_fit=lr.fit(X_train, y_train)"
   ]
  },
  {
   "cell_type": "code",
   "execution_count": null,
   "id": "c44c2423",
   "metadata": {},
   "outputs": [],
   "source": [
    "from sklearn.model_selection import cross_validate\n",
    "cv_lr = cross_validate(lr, X_train, y_train, cv=10 ,scoring=('f1_weighted'))\n",
    "cv_lr"
   ]
  },
  {
   "cell_type": "code",
   "execution_count": null,
   "id": "447ae345",
   "metadata": {},
   "outputs": [],
   "source": [
    "cv_lr"
   ]
  },
  {
   "cell_type": "markdown",
   "id": "04d97eb4",
   "metadata": {},
   "source": [
    "#### Random Forest Classifier"
   ]
  },
  {
   "cell_type": "code",
   "execution_count": 137,
   "id": "6b544272",
   "metadata": {},
   "outputs": [],
   "source": [
    "forest = RandomForestClassifier(n_estimators=100, random_state=27)\n",
    "forest_fit=forest.fit(X_train, y_train)"
   ]
  },
  {
   "cell_type": "code",
   "execution_count": 204,
   "id": "133cb870",
   "metadata": {},
   "outputs": [],
   "source": [
    "#Tuning the hyperparameters\n",
    "forest1 = RandomForestClassifier(n_estimators=100, max_depth=6, max_features= 6, random_state=27)\n",
    "forest1_fit=forest.fit(X_train, y_train)\n"
   ]
  },
  {
   "cell_type": "markdown",
   "id": "453bbc20",
   "metadata": {},
   "source": [
    "#### Support Vector Classifier"
   ]
  },
  {
   "cell_type": "code",
   "execution_count": 149,
   "id": "93527b2c",
   "metadata": {},
   "outputs": [],
   "source": [
    "svc = SVC(kernel='rbf', C=1, gamma=0.1)\n",
    "svc_fit=svc.fit(X_train, y_train)"
   ]
  },
  {
   "cell_type": "markdown",
   "id": "bcc6ab83",
   "metadata": {},
   "source": [
    "#### Ada Boost Classifier"
   ]
  },
  {
   "cell_type": "code",
   "execution_count": 144,
   "id": "78dc456e",
   "metadata": {},
   "outputs": [],
   "source": [
    "ada=AdaBoostClassifier(base_estimator=RandomForestClassifier(),n_estimators=100)\n",
    "ada_fit=ada.fit(X_train, y_train)"
   ]
  },
  {
   "cell_type": "markdown",
   "id": "61172a8e",
   "metadata": {},
   "source": [
    "#### Naive Bayes Models"
   ]
  },
  {
   "cell_type": "code",
   "execution_count": 192,
   "id": "04977b1c",
   "metadata": {},
   "outputs": [],
   "source": [
    "nb = MultinomialNB() \n",
    "nb_fit=naive_bayes.fit(X_train.toarray(), y_train)"
   ]
  },
  {
   "cell_type": "code",
   "execution_count": null,
   "id": "b20f9a05",
   "metadata": {},
   "outputs": [],
   "source": [
    "nb1=CategoricalNB(min_categories=11)\n",
    "nb1_fit=nb1.fit(X_train, y_train)"
   ]
  },
  {
   "cell_type": "markdown",
   "id": "6b530251",
   "metadata": {},
   "source": [
    "<a id=\"six\"></a>\n",
    "## 6. Model Performance\n",
    "<a class=\"anchor\" id=\"1.1\"></a>\n",
    "<a href=#cont>Back to Table of Contents</a>\n"
   ]
  },
  {
   "cell_type": "markdown",
   "id": "223e19f3",
   "metadata": {},
   "source": [
    "#### Logistic Regression"
   ]
  },
  {
   "cell_type": "code",
   "execution_count": 133,
   "id": "37c14b79",
   "metadata": {},
   "outputs": [
    {
     "name": "stdout",
     "output_type": "stream",
     "text": [
      "              precision    recall  f1-score   support\n",
      "\n",
      "         afr       1.00      0.99      1.00       632\n",
      "         eng       0.99      1.00      1.00       595\n",
      "         nbl       0.98      0.97      0.98       607\n",
      "         nso       1.00      0.99      1.00       573\n",
      "         sot       1.00      1.00      1.00       572\n",
      "         ssw       0.98      0.99      0.99       647\n",
      "         tsn       1.00      1.00      1.00       568\n",
      "         tso       1.00      1.00      1.00       576\n",
      "         ven       1.00      1.00      1.00       601\n",
      "         xho       0.98      0.99      0.99       598\n",
      "         zul       0.97      0.97      0.97       631\n",
      "\n",
      "    accuracy                           0.99      6600\n",
      "   macro avg       0.99      0.99      0.99      6600\n",
      "weighted avg       0.99      0.99      0.99      6600\n",
      "\n"
     ]
    }
   ],
   "source": [
    "# Generate predictions\n",
    "y_pred = lr_fit.predict(X_test)\n",
    "\n",
    "# Classification report\n",
    "print(classification_report(y_test, y_pred, target_names=class_labels))"
   ]
  },
  {
   "cell_type": "markdown",
   "id": "ef84206f",
   "metadata": {},
   "source": [
    "#### Random Forest Classifier"
   ]
  },
  {
   "cell_type": "code",
   "execution_count": 138,
   "id": "339e277f",
   "metadata": {},
   "outputs": [
    {
     "name": "stdout",
     "output_type": "stream",
     "text": [
      "              precision    recall  f1-score   support\n",
      "\n",
      "         afr       1.00      1.00      1.00       632\n",
      "         eng       0.99      1.00      0.99       595\n",
      "         nbl       0.99      0.94      0.96       607\n",
      "         nso       1.00      0.99      0.99       573\n",
      "         sot       1.00      1.00      1.00       572\n",
      "         ssw       0.99      0.96      0.98       647\n",
      "         tsn       0.99      1.00      0.99       568\n",
      "         tso       1.00      1.00      1.00       576\n",
      "         ven       1.00      1.00      1.00       601\n",
      "         xho       0.97      0.98      0.98       598\n",
      "         zul       0.92      0.97      0.95       631\n",
      "\n",
      "    accuracy                           0.99      6600\n",
      "   macro avg       0.99      0.99      0.99      6600\n",
      "weighted avg       0.99      0.99      0.99      6600\n",
      "\n"
     ]
    }
   ],
   "source": [
    "# Generate predictions\n",
    "y_pred = forest_fit.predict(X_test)\n",
    "\n",
    "# Classification report\n",
    "print(classification_report(y_test, y_pred, target_names=class_labels))"
   ]
  },
  {
   "cell_type": "markdown",
   "id": "95ba3d77",
   "metadata": {},
   "source": [
    "#### Support Vector Classifier"
   ]
  },
  {
   "cell_type": "code",
   "execution_count": 155,
   "id": "ee224c14",
   "metadata": {},
   "outputs": [
    {
     "name": "stdout",
     "output_type": "stream",
     "text": [
      "              precision    recall  f1-score   support\n",
      "\n",
      "         afr       1.00      0.99      1.00       632\n",
      "         eng       1.00      1.00      1.00       595\n",
      "         nbl       0.97      0.98      0.97       607\n",
      "         nso       1.00      0.99      1.00       573\n",
      "         sot       1.00      1.00      1.00       572\n",
      "         ssw       1.00      0.99      0.99       647\n",
      "         tsn       0.99      1.00      1.00       568\n",
      "         tso       1.00      1.00      1.00       576\n",
      "         ven       1.00      1.00      1.00       601\n",
      "         xho       0.98      0.99      0.99       598\n",
      "         zul       0.97      0.97      0.97       631\n",
      "\n",
      "    accuracy                           0.99      6600\n",
      "   macro avg       0.99      0.99      0.99      6600\n",
      "weighted avg       0.99      0.99      0.99      6600\n",
      "\n"
     ]
    }
   ],
   "source": [
    "# Generate predictions\n",
    "y_pred = svc_fit.predict(X_test)\n",
    "\n",
    "# Classification report\n",
    "print(classification_report(y_test, y_pred, target_names=class_labels))"
   ]
  },
  {
   "cell_type": "markdown",
   "id": "d08f3407",
   "metadata": {},
   "source": [
    "#### Naive Bayes Model"
   ]
  },
  {
   "cell_type": "code",
   "execution_count": 193,
   "id": "74116ad2",
   "metadata": {},
   "outputs": [
    {
     "name": "stdout",
     "output_type": "stream",
     "text": [
      "              precision    recall  f1-score   support\n",
      "\n",
      "         afr       1.00      1.00      1.00       632\n",
      "         eng       1.00      1.00      1.00       595\n",
      "         nbl       0.99      0.99      0.99       607\n",
      "         nso       1.00      1.00      1.00       573\n",
      "         sot       0.99      1.00      1.00       572\n",
      "         ssw       0.99      1.00      1.00       647\n",
      "         tsn       1.00      1.00      1.00       568\n",
      "         tso       1.00      1.00      1.00       576\n",
      "         ven       1.00      1.00      1.00       601\n",
      "         xho       0.99      0.99      0.99       598\n",
      "         zul       0.98      0.98      0.98       631\n",
      "\n",
      "    accuracy                           0.99      6600\n",
      "   macro avg       0.99      0.99      0.99      6600\n",
      "weighted avg       0.99      0.99      0.99      6600\n",
      "\n"
     ]
    }
   ],
   "source": [
    "# Generate predictions\n",
    "y_pred = nb_fit.predict(X_test.toarray())\n",
    "\n",
    "# Classification report\n",
    "print(classification_report(y_test, y_pred, target_names=class_labels))"
   ]
  },
  {
   "cell_type": "markdown",
   "id": "819847bc",
   "metadata": {},
   "source": [
    "#### Ada Boost Classifier"
   ]
  },
  {
   "cell_type": "code",
   "execution_count": 145,
   "id": "ae4f4c21",
   "metadata": {},
   "outputs": [
    {
     "name": "stdout",
     "output_type": "stream",
     "text": [
      "              precision    recall  f1-score   support\n",
      "\n",
      "         afr       1.00      1.00      1.00       632\n",
      "         eng       0.99      1.00      0.99       595\n",
      "         nbl       0.98      0.94      0.96       607\n",
      "         nso       1.00      0.99      1.00       573\n",
      "         sot       1.00      1.00      1.00       572\n",
      "         ssw       0.99      0.96      0.98       647\n",
      "         tsn       0.99      1.00      1.00       568\n",
      "         tso       1.00      1.00      1.00       576\n",
      "         ven       1.00      1.00      1.00       601\n",
      "         xho       0.96      0.98      0.97       598\n",
      "         zul       0.93      0.96      0.94       631\n",
      "\n",
      "    accuracy                           0.98      6600\n",
      "   macro avg       0.99      0.99      0.99      6600\n",
      "weighted avg       0.98      0.98      0.98      6600\n",
      "\n"
     ]
    }
   ],
   "source": [
    "# Generate predictions\n",
    "y_pred = ada_fit.predict(X_test)\n",
    "\n",
    "# Classification report\n",
    "print(classification_report(y_test, y_pred, target_names=class_labels))"
   ]
  },
  {
   "cell_type": "code",
   "execution_count": 205,
   "id": "9917904e",
   "metadata": {},
   "outputs": [
    {
     "name": "stdout",
     "output_type": "stream",
     "text": [
      "              precision    recall  f1-score   support\n",
      "\n",
      "         afr       1.00      1.00      1.00       632\n",
      "         eng       0.99      1.00      0.99       595\n",
      "         nbl       0.98      0.94      0.96       607\n",
      "         nso       1.00      0.99      1.00       573\n",
      "         sot       1.00      1.00      1.00       572\n",
      "         ssw       0.96      0.96      0.96       647\n",
      "         tsn       0.99      1.00      1.00       568\n",
      "         tso       1.00      1.00      1.00       576\n",
      "         ven       1.00      1.00      1.00       601\n",
      "         xho       0.96      0.96      0.96       598\n",
      "         zul       0.92      0.94      0.93       631\n",
      "\n",
      "    accuracy                           0.98      6600\n",
      "   macro avg       0.98      0.98      0.98      6600\n",
      "weighted avg       0.98      0.98      0.98      6600\n",
      "\n"
     ]
    }
   ],
   "source": [
    "# Generate predictions\n",
    "y_pred = forest1_fit.predict(X_test)\n",
    "\n",
    "# Classification report\n",
    "print(classification_report(y_test, y_pred, target_names=class_labels))"
   ]
  },
  {
   "cell_type": "markdown",
   "id": "319ac7ef",
   "metadata": {},
   "source": [
    "All the models seemed to perform fairly well. However, the Naive Bayes Model outperformed the rest."
   ]
  },
  {
   "cell_type": "markdown",
   "id": "ddce6f93",
   "metadata": {},
   "source": [
    "## 7. Kaggle Submission"
   ]
  },
  {
   "cell_type": "code",
   "execution_count": null,
   "id": "c2e819cc",
   "metadata": {},
   "outputs": [],
   "source": [
    "def process_test(test_df):\n",
    "    test_df['text']=test_df['text'].apply(cleaning)\n",
    "    test_df['text_tokens']=test_df['text'].apply(tokeniser.tokenize)\n",
    "    test_df['text_nonstop']=test_df['text_tokens'].apply(remove_stop_words)\n",
    "    test_df['text_lemmatized'] = test_df['text_nonstop'].apply(return_lemmer)\n",
    "    test_data= vect.transform(test_df['text_lemmatized'].apply(join_w))\n",
    "    \n",
    "    return test_data\n",
    "\n",
    "test_data=process_test(test_df)"
   ]
  },
  {
   "cell_type": "code",
   "execution_count": 194,
   "id": "f6028018",
   "metadata": {},
   "outputs": [],
   "source": [
    "test_data= vect1.transform(test_df['text_lemmatized'].apply(join_w))\n",
    "predictions=nb_fit.predict(test_data.toarray())"
   ]
  },
  {
   "cell_type": "code",
   "execution_count": 195,
   "id": "8d40b821",
   "metadata": {},
   "outputs": [
    {
     "name": "stderr",
     "output_type": "stream",
     "text": [
      "C:\\Users\\DELL\\AppData\\Local\\Temp/ipykernel_3080/3252922501.py:2: SettingWithCopyWarning: \n",
      "A value is trying to be set on a copy of a slice from a DataFrame.\n",
      "Try using .loc[row_indexer,col_indexer] = value instead\n",
      "\n",
      "See the caveats in the documentation: https://pandas.pydata.org/pandas-docs/stable/user_guide/indexing.html#returning-a-view-versus-a-copy\n",
      "  submission['lang_id']=le.inverse_transform(predictions)\n"
     ]
    },
    {
     "data": {
      "text/html": [
       "<div>\n",
       "<style scoped>\n",
       "    .dataframe tbody tr th:only-of-type {\n",
       "        vertical-align: middle;\n",
       "    }\n",
       "\n",
       "    .dataframe tbody tr th {\n",
       "        vertical-align: top;\n",
       "    }\n",
       "\n",
       "    .dataframe thead th {\n",
       "        text-align: right;\n",
       "    }\n",
       "</style>\n",
       "<table border=\"1\" class=\"dataframe\">\n",
       "  <thead>\n",
       "    <tr style=\"text-align: right;\">\n",
       "      <th></th>\n",
       "      <th>index</th>\n",
       "      <th>lang_id</th>\n",
       "    </tr>\n",
       "  </thead>\n",
       "  <tbody>\n",
       "    <tr>\n",
       "      <th>0</th>\n",
       "      <td>1</td>\n",
       "      <td>tsn</td>\n",
       "    </tr>\n",
       "    <tr>\n",
       "      <th>1</th>\n",
       "      <td>2</td>\n",
       "      <td>nbl</td>\n",
       "    </tr>\n",
       "    <tr>\n",
       "      <th>2</th>\n",
       "      <td>3</td>\n",
       "      <td>ven</td>\n",
       "    </tr>\n",
       "    <tr>\n",
       "      <th>3</th>\n",
       "      <td>4</td>\n",
       "      <td>ssw</td>\n",
       "    </tr>\n",
       "    <tr>\n",
       "      <th>4</th>\n",
       "      <td>5</td>\n",
       "      <td>afr</td>\n",
       "    </tr>\n",
       "    <tr>\n",
       "      <th>...</th>\n",
       "      <td>...</td>\n",
       "      <td>...</td>\n",
       "    </tr>\n",
       "    <tr>\n",
       "      <th>5677</th>\n",
       "      <td>5678</td>\n",
       "      <td>eng</td>\n",
       "    </tr>\n",
       "    <tr>\n",
       "      <th>5678</th>\n",
       "      <td>5679</td>\n",
       "      <td>nso</td>\n",
       "    </tr>\n",
       "    <tr>\n",
       "      <th>5679</th>\n",
       "      <td>5680</td>\n",
       "      <td>sot</td>\n",
       "    </tr>\n",
       "    <tr>\n",
       "      <th>5680</th>\n",
       "      <td>5681</td>\n",
       "      <td>sot</td>\n",
       "    </tr>\n",
       "    <tr>\n",
       "      <th>5681</th>\n",
       "      <td>5682</td>\n",
       "      <td>nbl</td>\n",
       "    </tr>\n",
       "  </tbody>\n",
       "</table>\n",
       "<p>5682 rows × 2 columns</p>\n",
       "</div>"
      ],
      "text/plain": [
       "      index lang_id\n",
       "0         1     tsn\n",
       "1         2     nbl\n",
       "2         3     ven\n",
       "3         4     ssw\n",
       "4         5     afr\n",
       "...     ...     ...\n",
       "5677   5678     eng\n",
       "5678   5679     nso\n",
       "5679   5680     sot\n",
       "5680   5681     sot\n",
       "5681   5682     nbl\n",
       "\n",
       "[5682 rows x 2 columns]"
      ]
     },
     "execution_count": 195,
     "metadata": {},
     "output_type": "execute_result"
    }
   ],
   "source": [
    "submission = test_df[['index']]\n",
    "submission['lang_id']=le.inverse_transform(predictions)\n",
    "submission"
   ]
  },
  {
   "cell_type": "code",
   "execution_count": 196,
   "id": "5ab54bc1",
   "metadata": {},
   "outputs": [
    {
     "data": {
      "text/html": [
       "<div>\n",
       "<style scoped>\n",
       "    .dataframe tbody tr th:only-of-type {\n",
       "        vertical-align: middle;\n",
       "    }\n",
       "\n",
       "    .dataframe tbody tr th {\n",
       "        vertical-align: top;\n",
       "    }\n",
       "\n",
       "    .dataframe thead th {\n",
       "        text-align: right;\n",
       "    }\n",
       "</style>\n",
       "<table border=\"1\" class=\"dataframe\">\n",
       "  <thead>\n",
       "    <tr style=\"text-align: right;\">\n",
       "      <th></th>\n",
       "      <th>index</th>\n",
       "      <th>lang_id</th>\n",
       "    </tr>\n",
       "  </thead>\n",
       "  <tbody>\n",
       "    <tr>\n",
       "      <th>0</th>\n",
       "      <td>1</td>\n",
       "      <td>tsn</td>\n",
       "    </tr>\n",
       "    <tr>\n",
       "      <th>1</th>\n",
       "      <td>2</td>\n",
       "      <td>nbl</td>\n",
       "    </tr>\n",
       "    <tr>\n",
       "      <th>2</th>\n",
       "      <td>3</td>\n",
       "      <td>ven</td>\n",
       "    </tr>\n",
       "    <tr>\n",
       "      <th>3</th>\n",
       "      <td>4</td>\n",
       "      <td>ssw</td>\n",
       "    </tr>\n",
       "    <tr>\n",
       "      <th>4</th>\n",
       "      <td>5</td>\n",
       "      <td>afr</td>\n",
       "    </tr>\n",
       "  </tbody>\n",
       "</table>\n",
       "</div>"
      ],
      "text/plain": [
       "   index lang_id\n",
       "0      1     tsn\n",
       "1      2     nbl\n",
       "2      3     ven\n",
       "3      4     ssw\n",
       "4      5     afr"
      ]
     },
     "execution_count": 196,
     "metadata": {},
     "output_type": "execute_result"
    }
   ],
   "source": [
    "submission.to_csv('submission.csv', index=None)\n",
    "\n",
    "subdf=pd.read_csv('submission.csv')\n",
    "subdf.head()"
   ]
  },
  {
   "cell_type": "code",
   "execution_count": null,
   "id": "db5f4678",
   "metadata": {},
   "outputs": [],
   "source": []
  }
 ],
 "metadata": {
  "kernelspec": {
   "display_name": "Python 3 (ipykernel)",
   "language": "python",
   "name": "python3"
  },
  "language_info": {
   "codemirror_mode": {
    "name": "ipython",
    "version": 3
   },
   "file_extension": ".py",
   "mimetype": "text/x-python",
   "name": "python",
   "nbconvert_exporter": "python",
   "pygments_lexer": "ipython3",
   "version": "3.9.7"
  },
  "latex_envs": {
   "LaTeX_envs_menu_present": true,
   "autoclose": false,
   "autocomplete": true,
   "bibliofile": "biblio.bib",
   "cite_by": "apalike",
   "current_citInitial": 1,
   "eqLabelWithNumbers": true,
   "eqNumInitial": 1,
   "hotkeys": {
    "equation": "Ctrl-E",
    "itemize": "Ctrl-I"
   },
   "labels_anchors": false,
   "latex_user_defs": false,
   "report_style_numbering": false,
   "user_envs_cfg": false
  },
  "toc": {
   "base_numbering": 1,
   "nav_menu": {},
   "number_sections": true,
   "sideBar": true,
   "skip_h1_title": false,
   "title_cell": "Table of Contents",
   "title_sidebar": "Contents",
   "toc_cell": false,
   "toc_position": {},
   "toc_section_display": true,
   "toc_window_display": false
  },
  "varInspector": {
   "cols": {
    "lenName": 16,
    "lenType": 16,
    "lenVar": 40
   },
   "kernels_config": {
    "python": {
     "delete_cmd_postfix": "",
     "delete_cmd_prefix": "del ",
     "library": "var_list.py",
     "varRefreshCmd": "print(var_dic_list())"
    },
    "r": {
     "delete_cmd_postfix": ") ",
     "delete_cmd_prefix": "rm(",
     "library": "var_list.r",
     "varRefreshCmd": "cat(var_dic_list()) "
    }
   },
   "types_to_exclude": [
    "module",
    "function",
    "builtin_function_or_method",
    "instance",
    "_Feature"
   ],
   "window_display": false
  }
 },
 "nbformat": 4,
 "nbformat_minor": 5
}
